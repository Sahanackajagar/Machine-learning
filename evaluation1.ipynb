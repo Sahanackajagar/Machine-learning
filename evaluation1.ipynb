{
  "nbformat": 4,
  "nbformat_minor": 0,
  "metadata": {
    "colab": {
      "provenance": []
    },
    "kernelspec": {
      "name": "python3",
      "display_name": "Python 3"
    },
    "language_info": {
      "name": "python"
    }
  },
  "cells": [
    {
      "cell_type": "code",
      "execution_count": 1,
      "metadata": {
        "colab": {
          "base_uri": "https://localhost:8080/"
        },
        "id": "aq6Wrnpo8caQ",
        "outputId": "b8227401-782e-448f-b39c-72db1c3920d5"
      },
      "outputs": [
        {
          "output_type": "stream",
          "name": "stdout",
          "text": [
            "Enter a number: 88\n",
            " is not a prime number.\n",
            "is divisible by 11.\n"
          ]
        }
      ],
      "source": [
        "def divisiblity(num):\n",
        "    if num <= 1:\n",
        "        return 0\n",
        "    if num <= 3:\n",
        "        return 1\n",
        "    if num % 2 == 0 or num % 3 == 0:\n",
        "        return 0\n",
        "\n",
        "    i = 5\n",
        "    while i * i <= num:\n",
        "        if num % i == 0 or num % (i + 2) == 0:\n",
        "            return 0\n",
        "        i += 6\n",
        "\n",
        "    return 1\n",
        "\n",
        "x = int(input(\"Enter a number: \"))\n",
        "\n",
        "if divisiblity(x):\n",
        "    print(\" is a prime number.\")\n",
        "else:\n",
        "    print(\" is not a prime number.\")\n",
        "    if x % 3 == 0:\n",
        "        print(\" is divisible by 3.\")\n",
        "    if x % 7 == 0:\n",
        "        print(\" is divisible by 7.\")\n",
        "    if x % 9 == 0:\n",
        "        print(\" is divisible by 9.\")\n",
        "    if x % 11 == 0:\n",
        "        print(\"is divisible by 11.\")\n"
      ]
    },
    {
      "cell_type": "code",
      "source": [
        "str = input(\"Enter the string\")\n",
        "l = len(str)\n",
        "p = l-1\n",
        "index = 0\n",
        "while index < p:\n",
        "    if str[index] == str[p]:\n",
        "        index = index + 1\n",
        "        p = p-1\n",
        "        print(\"String is a palindrome\")\n",
        "        break\n",
        "    else:\n",
        "        print(\"string is not a palindrome\")\n",
        "        break"
      ],
      "metadata": {
        "colab": {
          "base_uri": "https://localhost:8080/"
        },
        "id": "QgfTO2gk8jpT",
        "outputId": "f69318ac-5ff5-4f1b-d76c-40ca9bc4f9b0"
      },
      "execution_count": 2,
      "outputs": [
        {
          "output_type": "stream",
          "name": "stdout",
          "text": [
            "Enter the stringbvb\n",
            "String is a palindrome\n"
          ]
        }
      ]
    },
    {
      "cell_type": "code",
      "source": [
        "n = int(input(\"Enter number of rows:\"))\n",
        "for i in range(1, n+1):\n",
        "  for j in range(1, i + 1):\n",
        "\n",
        "    print(\"* \", end=\"\")\n",
        "  print()\n"
      ],
      "metadata": {
        "colab": {
          "base_uri": "https://localhost:8080/"
        },
        "id": "fGOG0wQ-8sQ0",
        "outputId": "165bcb03-cec3-4dad-bbff-0786273a9678"
      },
      "execution_count": 3,
      "outputs": [
        {
          "output_type": "stream",
          "name": "stdout",
          "text": [
            "Enter number of rows:4\n",
            "* \n",
            "* * \n",
            "* * * \n",
            "* * * * \n"
          ]
        }
      ]
    },
    {
      "cell_type": "code",
      "source": [
        "import numpy as np\n",
        "\n",
        "lis=np.zeros(10)\n",
        "even=np.zeros(10)\n",
        "odd=np.zeros(10)\n",
        "\n",
        "for i in range (0,10):\n",
        "  x=int(input(\"enter an element \"))\n",
        "  lis[i]=x\n",
        "\n",
        "for i in range (0,10):\n",
        "  if(lis[i]%2)==0:\n",
        "    even[i]=lis[i]\n",
        "  else:\n",
        "    odd[i]=lis[i]\n",
        "\n",
        "print(even)\n",
        "print(odd)\n"
      ],
      "metadata": {
        "colab": {
          "base_uri": "https://localhost:8080/"
        },
        "id": "et0HgtH98ylw",
        "outputId": "de1791a8-7ad4-4220-f7a5-7e088e5ab144"
      },
      "execution_count": 4,
      "outputs": [
        {
          "output_type": "stream",
          "name": "stdout",
          "text": [
            "enter an element 7\n",
            "enter an element 9\n",
            "enter an element 7\n",
            "enter an element 6\n",
            "enter an element 9\n",
            "enter an element 9\n",
            "enter an element 5\n",
            "enter an element 2\n",
            "enter an element 3\n",
            "enter an element 8\n",
            "[0. 0. 0. 6. 0. 0. 0. 2. 0. 8.]\n",
            "[7. 9. 7. 0. 9. 9. 5. 0. 3. 0.]\n"
          ]
        }
      ]
    },
    {
      "cell_type": "code",
      "source": [],
      "metadata": {
        "id": "F-OG8mpH9E4D"
      },
      "execution_count": null,
      "outputs": []
    }
  ]
}