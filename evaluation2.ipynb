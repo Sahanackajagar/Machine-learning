{
  "nbformat": 4,
  "nbformat_minor": 0,
  "metadata": {
    "colab": {
      "provenance": []
    },
    "kernelspec": {
      "name": "python3",
      "display_name": "Python 3"
    },
    "language_info": {
      "name": "python"
    }
  },
  "cells": [
    {
      "cell_type": "code",
      "execution_count": 1,
      "metadata": {
        "colab": {
          "base_uri": "https://localhost:8080/"
        },
        "id": "J-Zwdn79EW-P",
        "outputId": "05939b5b-ac14-4450-866e-f50944faa341"
      },
      "outputs": [
        {
          "output_type": "stream",
          "name": "stdout",
          "text": [
            "enter a number15\n",
            "Humpty_Dumpty\n"
          ]
        }
      ],
      "source": [
        "def Humpty_dumpty(n):\n",
        "  if n%3==0 and n%5==0:\n",
        "     print(\"Humpty_Dumpty\")\n",
        "  elif n%3==0:\n",
        "    print(\"Humpty\")\n",
        "  elif n%5==0:\n",
        "    print(\"Dumpty\")\n",
        "  else:\n",
        "    print(n)\n",
        "\n",
        "n=int(input(\"enter a number\"))\n",
        "Humpty_dumpty(n)\n",
        "\n"
      ]
    },
    {
      "cell_type": "code",
      "source": [
        "def sumof_3(lim):\n",
        "    res1 = 0\n",
        "    for i in range(lim+1):\n",
        "        if i % 3 == 0 or i%5==0:\n",
        "            res1 += i\n",
        "    return res1\n",
        "\n",
        "\n",
        "\n",
        "lim = int(input(\"Enter limit: \"))\n",
        "res1 = sumof_3(lim)\n",
        "print(res1)\n"
      ],
      "metadata": {
        "colab": {
          "base_uri": "https://localhost:8080/"
        },
        "id": "S28ise2LEa5q",
        "outputId": "9819c078-261c-4d71-b624-1b90578fdef7"
      },
      "execution_count": 2,
      "outputs": [
        {
          "output_type": "stream",
          "name": "stdout",
          "text": [
            "Enter limit: 20\n",
            "98\n"
          ]
        }
      ]
    },
    {
      "cell_type": "code",
      "source": [
        "matrix_a = [\n",
        "    [1, 1],\n",
        "    [1, 1],\n",
        "    [1, 1]\n",
        "]\n",
        "matrix_b = [\n",
        "    [1, 1, 1],\n",
        "    [1, 1, 1]\n",
        "]\n",
        "\n",
        "matrix_c = [\n",
        "    [0, 0, 0],\n",
        "    [0, 0, 0],\n",
        "    [0, 0, 0]\n",
        "]\n",
        "\n",
        "for i in range(len(matrix_a)):\n",
        "    for j in range(len(matrix_b[0])):\n",
        "        for k in range(len(matrix_b)):\n",
        "            matrix_c[i][j] += matrix_a[i][k] * matrix_b[k][j]\n",
        "\n",
        "for row in matrix_c:\n",
        "    print(row)"
      ],
      "metadata": {
        "colab": {
          "base_uri": "https://localhost:8080/"
        },
        "id": "Pxg_M7N2EnnV",
        "outputId": "237bbf6f-a384-42af-a38a-82e84582387b"
      },
      "execution_count": 3,
      "outputs": [
        {
          "output_type": "stream",
          "name": "stdout",
          "text": [
            "[2, 2, 2]\n",
            "[2, 2, 2]\n",
            "[2, 2, 2]\n"
          ]
        }
      ]
    },
    {
      "cell_type": "code",
      "source": [
        "import pandas as pd\n",
        "import numpy as np\n",
        "import matplotlib.pyplot as plt\n",
        "import random\n",
        "x1=[]\n",
        "y1=[]\n",
        "data = pd.read_csv('/content/drive/MyDrive/xydatasheet.csv')\n",
        "x1 = data['x'].values.tolist()\n",
        "y1 = data['y'].values.tolist()\n",
        "x2 = np.array([x1[0],x1[1],x1[2],x1[3],x1[4],x1[5]]).reshape((-1,1))\n",
        "y2 = np.array([y1[0],y1[1],y1[2],y1[3],y1[4],y1[5]])\n",
        "plt.scatter(x2,y2)\n",
        "plt.xlabel(\"Independent Variable\")\n",
        "plt.ylabel(\"Dependent Variable\")\n",
        "from sklearn.linear_model import LinearRegression\n",
        "SLR = LinearRegression()\n",
        "SLR.fit(x2,y2)\n",
        "pred = SLR.predict(x2)\n",
        "from sklearn.metrics import mean_squared_error\n",
        "mse = mean_squared_error(y2,pred)\n",
        "plt.plot(x2,pred,color='red',marker='*')\n",
        "print(\"Mean Square Error : \",mse)\n",
        "print(\"Intercept : \",SLR.intercept_)\n",
        "print(\"Slope : \",SLR.coef_)\n",
        "plt.show()"
      ],
      "metadata": {
        "colab": {
          "base_uri": "https://localhost:8080/",
          "height": 501
        },
        "id": "7ygDcpkHEoIl",
        "outputId": "7b930699-9f38-4c16-9037-7eee2546604a"
      },
      "execution_count": 5,
      "outputs": [
        {
          "output_type": "stream",
          "name": "stdout",
          "text": [
            "Mean Square Error :  11.26119650319069\n",
            "Intercept :  -1.224151357216897\n",
            "Slope :  [1.07549261]\n"
          ]
        },
        {
          "output_type": "display_data",
          "data": {
            "text/plain": [
              "<Figure size 640x480 with 1 Axes>"
            ],
            "image/png": "[encoded data removed]"
          },
          "metadata": {}
        }
      ]
    },
    {
      "cell_type": "code",
      "source": [],
      "metadata": {
        "id": "QA1LrmioEq0F"
      },
      "execution_count": null,
      "outputs": []
    }
  ]
}